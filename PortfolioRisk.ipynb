{
 "cells": [
  {
   "cell_type": "code",
   "execution_count": 6,
   "metadata": {},
   "outputs": [
    {
     "name": "stdout",
     "output_type": "stream",
     "text": [
      "21.989%\n"
     ]
    }
   ],
   "source": [
    "import numpy as np\n",
    "import pandas as pd\n",
    "from pandas_datareader import data as wb\n",
    "import matplotlib.pyplot as plt\n",
    "\n",
    "tickers = ['MSFT', 'AAPL', 'CGC', 'AVGO', 'AMT']\n",
    "\n",
    "sec_data = pd.DataFrame()\n",
    "\n",
    "for t in tickers:\n",
    "    sec_data[t] = wb.DataReader(t, data_source='iex', start='2015-1-1')['close']\n",
    "    \n",
    "sec_returns = np.log(sec_data / sec_data.shift(1))\n",
    "\n",
    "sec_returns[['MSFT', 'AAPL', 'CGC', 'AVGO', 'AMT']].mean() * 250\n",
    "\n",
    "sec_returns[['MSFT', 'AAPL','CGC', 'AVGO', 'AMT']].std() * 250 ** 0.5\n",
    "\n",
    "weights = np.array([0.2,0.2,0.2,0.2,0.2])\n",
    "\n",
    "pfolio_vol = (np.dot(weights.T, np.dot(sec_returns.cov() * 250, weights))) ** 0.5\n",
    "\n",
    "print (str(round(pfolio_vol,5) * 100) + '%')"
   ]
  },
  {
   "cell_type": "code",
   "execution_count": null,
   "metadata": {},
   "outputs": [],
   "source": []
  }
 ],
 "metadata": {
  "kernelspec": {
   "display_name": "Python 3",
   "language": "python",
   "name": "python3"
  },
  "language_info": {
   "codemirror_mode": {
    "name": "ipython",
    "version": 3
   },
   "file_extension": ".py",
   "mimetype": "text/x-python",
   "name": "python",
   "nbconvert_exporter": "python",
   "pygments_lexer": "ipython3",
   "version": "3.7.0"
  }
 },
 "nbformat": 4,
 "nbformat_minor": 2
}
